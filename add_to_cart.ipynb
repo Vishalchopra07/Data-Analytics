{
  "nbformat": 4,
  "nbformat_minor": 0,
  "metadata": {
    "colab": {
      "provenance": [],
      "authorship_tag": "ABX9TyMZLkqzLJHSdv9YAGM/S6Cq",
      "include_colab_link": true
    },
    "kernelspec": {
      "name": "python3",
      "display_name": "Python 3"
    },
    "language_info": {
      "name": "python"
    }
  },
  "cells": [
    {
      "cell_type": "markdown",
      "metadata": {
        "id": "view-in-github",
        "colab_type": "text"
      },
      "source": [
        "<a href=\"https://colab.research.google.com/github/Vishalchopra07/Data-Analytics/blob/main/add_to_cart.ipynb\" target=\"_parent\"><img src=\"https://colab.research.google.com/assets/colab-badge.svg\" alt=\"Open In Colab\"/></a>"
      ]
    },
    {
      "cell_type": "code",
      "execution_count": 11,
      "metadata": {
        "colab": {
          "base_uri": "https://localhost:8080/"
        },
        "id": "GTz4aV9huJLl",
        "outputId": "179ac296-2df2-41a4-ccf7-283ba8ef0669"
      },
      "outputs": [
        {
          "output_type": "stream",
          "name": "stdout",
          "text": [
            "enter your first product           :LAPTOP\n",
            "enter your second product          :IPHONE\n",
            "enter price of first product       :100000\n",
            "enter price of second product      :1400000\n",
            "price after discount of first product      : 90000.0\n",
            "price after discount of second product     : 1390000.0\n",
            "Total price                                : 1480000.0\n",
            "Enter your Coupan code              :HAPPY\n",
            "Congratulation you got 10% discount      :\n",
            "Now total amount you have to pay         : 1332000.0\n",
            "Enter your address  details       :CHANDIGARH\n",
            "Select your payment method (UPI or cash on delivery):COD\n",
            "Congratulations your order is placed\n"
          ]
        }
      ],
      "source": [
        "product=input(\"enter your first product           :\")\n",
        "product1=input(\"enter your second product          :\")\n",
        "price=int(input(\"enter price of first product       :\"))\n",
        "price1=int(input(\"enter price of second product      :\"))\n",
        "dis=price/100*10\n",
        "dis1=price/100*10\n",
        "newprice=price-dis\n",
        "newprice1=price1-dis1\n",
        "print(\"price after discount of first product      :\",newprice)\n",
        "print(\"price after discount of second product     :\",newprice1)\n",
        "total_price=newprice+newprice1\n",
        "print(\"Total price                                :\",total_price)\n",
        "coupan=input(\"Enter your Coupan code              :\")\n",
        "if coupan==\"HAPPY\":\n",
        "  discount=total_price/100*10\n",
        "  payble_amount=total_price-discount\n",
        "  print(\"Congratulation you got 10% discount      :\")\n",
        "  print(\"Now total amount you have to pay         :\",payble_amount)\n",
        "else:\n",
        "  print(\"You enter incorrect coupan code\")\n",
        "  print(\"Now total amount you have to pay         :\",total_price)\n",
        "delivery=input(\"Enter your address  details       :\")\n",
        "payment=input(\"Select your payment method (UPI or cash on delivery):\")\n",
        "print(\"Congratulations your order is placed\")\n",
        "\n"
      ]
    },
    {
      "cell_type": "code",
      "source": [],
      "metadata": {
        "id": "Pe5GyysGyHeP"
      },
      "execution_count": null,
      "outputs": []
    }
  ]
}