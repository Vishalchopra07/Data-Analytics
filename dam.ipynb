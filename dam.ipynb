{
  "nbformat": 4,
  "nbformat_minor": 0,
  "metadata": {
    "colab": {
      "provenance": [],
      "authorship_tag": "ABX9TyNVL1zTJQ9ZQBqpzD/s2Zvn",
      "include_colab_link": true
    },
    "kernelspec": {
      "name": "python3",
      "display_name": "Python 3"
    },
    "language_info": {
      "name": "python"
    }
  },
  "cells": [
    {
      "cell_type": "markdown",
      "metadata": {
        "id": "view-in-github",
        "colab_type": "text"
      },
      "source": [
        "<a href=\"https://colab.research.google.com/github/Vishalchopra07/Data-Analytics/blob/main/dam.ipynb\" target=\"_parent\"><img src=\"https://colab.research.google.com/assets/colab-badge.svg\" alt=\"Open In Colab\"/></a>"
      ]
    },
    {
      "cell_type": "code",
      "execution_count": null,
      "metadata": {
        "colab": {
          "base_uri": "https://localhost:8080/"
        },
        "id": "JSz_P4brZJtz",
        "outputId": "1173bb00-c6f5-4824-8a61-741f1058c111"
      },
      "outputs": [
        {
          "output_type": "stream",
          "name": "stdout",
          "text": [
            "Enter capacity of dam: 1000\n",
            "Enter capacity of river 1: 10\n",
            "Enter capacity of river 2: 20\n",
            "Enter time interval of release of water into river: 3\n",
            "Total release of water in 3 days:  30\n",
            "Now total release of water per day:  10.0\n",
            "Time taken by dam to get empty is:  100.0 Days\n"
          ]
        }
      ],
      "source": [
        "dam=int(input(\"Enter capacity of dam: \"))\n",
        "river1=int(input(\"Enter capacity of river 1: \"))\n",
        "river2=int(input(\"Enter capacity of river 2: \"))\n",
        "days=int(input(\"Enter time interval of release of water into river: \"))\n",
        "release=river1+river2\n",
        "print(\"Total release of water in 3 days: \", release)\n",
        "release_per_day=release/3\n",
        "print(\"Now total release of water per day: \",release_per_day)\n",
        "\n",
        "Totaltime=dam/release_per_day\n",
        "print(\"Time taken by dam to get empty is: \",Totaltime,\"Days\")\n"
      ]
    },
    {
      "cell_type": "code",
      "source": [],
      "metadata": {
        "id": "7fpKQoWAbJ9a"
      },
      "execution_count": null,
      "outputs": []
    }
  ]
}