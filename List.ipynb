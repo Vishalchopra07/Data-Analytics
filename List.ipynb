{
  "nbformat": 4,
  "nbformat_minor": 0,
  "metadata": {
    "colab": {
      "provenance": [],
      "authorship_tag": "ABX9TyOATDCJUnXAQ8rWOfMbDdBP",
      "include_colab_link": true
    },
    "kernelspec": {
      "name": "python3",
      "display_name": "Python 3"
    },
    "language_info": {
      "name": "python"
    }
  },
  "cells": [
    {
      "cell_type": "markdown",
      "metadata": {
        "id": "view-in-github",
        "colab_type": "text"
      },
      "source": [
        "<a href=\"https://colab.research.google.com/github/Vishalchopra07/Data-Analytics/blob/main/List.ipynb\" target=\"_parent\"><img src=\"https://colab.research.google.com/assets/colab-badge.svg\" alt=\"Open In Colab\"/></a>"
      ]
    },
    {
      "cell_type": "code",
      "execution_count": null,
      "metadata": {
        "colab": {
          "base_uri": "https://localhost:8080/"
        },
        "id": "V_e5MFpxID6R",
        "outputId": "f84aba78-0a64-4127-aee2-e140f75ad462"
      },
      "outputs": [
        {
          "output_type": "stream",
          "name": "stdout",
          "text": [
            "3782\n",
            "5050\n",
            "1268\n"
          ]
        }
      ],
      "source": [
        "sum =0\n",
        "sum1=0\n",
        "for i in range(1, 101):\n",
        "  sum = sum+i\n",
        "\n",
        "for j in range(1, 101):\n",
        "    if j%2==0 or j%3==0 or j%4==0 or j%5==0:\n",
        "       sum1= sum1+j\n",
        "\n",
        "print(sum1)\n",
        "print(sum)\n",
        "result = sum - sum1\n",
        "print(result)"
      ]
    },
    {
      "cell_type": "code",
      "source": [
        "sum=0\n",
        "for i in range(1,101):\n",
        "  if i%2!=0 and i%3!=0 and i%4!=0 and i%5!=0:\n",
        "   sum=sum+i\n",
        "print(sum)"
      ],
      "metadata": {
        "id": "axFFQ_q4JbmD",
        "colab": {
          "base_uri": "https://localhost:8080/"
        },
        "outputId": "d552e2b2-145d-4dbf-d818-0eed0933a939"
      },
      "execution_count": null,
      "outputs": [
        {
          "output_type": "stream",
          "name": "stdout",
          "text": [
            "1268\n"
          ]
        }
      ]
    },
    {
      "cell_type": "code",
      "source": [
        "#List\n",
        "a=[5,6,7]\n",
        "print(a)"
      ],
      "metadata": {
        "colab": {
          "base_uri": "https://localhost:8080/"
        },
        "id": "Q7bTgOrd5mz6",
        "outputId": "ea200598-5901-465a-f106-fbc8d5a359dc"
      },
      "execution_count": null,
      "outputs": [
        {
          "output_type": "stream",
          "name": "stdout",
          "text": [
            "[5, 6, 7]\n"
          ]
        }
      ]
    },
    {
      "cell_type": "code",
      "source": [
        "#add in list\n",
        "a=[1,2,3]\n",
        "a.append(8)\n",
        "print(a)"
      ],
      "metadata": {
        "colab": {
          "base_uri": "https://localhost:8080/"
        },
        "id": "6kouG8M1-CvR",
        "outputId": "991acca0-cabc-4062-e05f-fe4e6f1ed833"
      },
      "execution_count": null,
      "outputs": [
        {
          "output_type": "stream",
          "name": "stdout",
          "text": [
            "[1, 2, 3, 8]\n"
          ]
        }
      ]
    },
    {
      "cell_type": "code",
      "source": [
        "#for replace\n",
        "a=[5,6,7,8]\n",
        "a[2]\n",
        "a[1]=9\n",
        "print(a)"
      ],
      "metadata": {
        "colab": {
          "base_uri": "https://localhost:8080/"
        },
        "id": "7CtkY17fERiy",
        "outputId": "dd759c2b-e04e-4db8-86ce-f0bd961c35bd"
      },
      "execution_count": null,
      "outputs": [
        {
          "output_type": "stream",
          "name": "stdout",
          "text": [
            "[5, 9, 7, 8]\n"
          ]
        }
      ]
    },
    {
      "cell_type": "code",
      "source": [
        "#For counting\n",
        "a=[5,6,7,8]\n",
        "a[0:3]"
      ],
      "metadata": {
        "colab": {
          "base_uri": "https://localhost:8080/"
        },
        "id": "kwvrqoh2Et2h",
        "outputId": "a35e8917-46ab-4dea-ab0c-f43e6d186bb9"
      },
      "execution_count": null,
      "outputs": [
        {
          "output_type": "execute_result",
          "data": {
            "text/plain": [
              "[5, 6, 7]"
            ]
          },
          "metadata": {},
          "execution_count": 28
        }
      ]
    },
    {
      "cell_type": "code",
      "source": [
        "a=[5,6,7,8,9]\n",
        "a[-3:]"
      ],
      "metadata": {
        "colab": {
          "base_uri": "https://localhost:8080/"
        },
        "id": "ImBbgo-BFt36",
        "outputId": "19a33159-363f-40b8-d8b6-68060e169e5e"
      },
      "execution_count": null,
      "outputs": [
        {
          "output_type": "execute_result",
          "data": {
            "text/plain": [
              "[5, 6]"
            ]
          },
          "metadata": {},
          "execution_count": 32
        }
      ]
    },
    {
      "cell_type": "code",
      "source": [
        "a=[5,8,8,9]\n",
        "a[:3]"
      ],
      "metadata": {
        "colab": {
          "base_uri": "https://localhost:8080/"
        },
        "id": "BwI5nfKCGujp",
        "outputId": "022b2d2f-cdf2-4808-b250-94874351d60d"
      },
      "execution_count": null,
      "outputs": [
        {
          "output_type": "execute_result",
          "data": {
            "text/plain": [
              "[5, 8, 8]"
            ]
          },
          "metadata": {},
          "execution_count": 36
        }
      ]
    },
    {
      "cell_type": "code",
      "source": [
        "sum=0\n",
        "a=[5,6,7,8]\n",
        "for i in a:\n",
        "  sum=sum+i\n",
        "print(sum)"
      ],
      "metadata": {
        "colab": {
          "base_uri": "https://localhost:8080/"
        },
        "id": "vmrinEvPHDzQ",
        "outputId": "04e5e90f-d5f9-495f-c5cb-a52f274f6f20"
      },
      "execution_count": null,
      "outputs": [
        {
          "output_type": "stream",
          "name": "stdout",
          "text": [
            "26\n"
          ]
        }
      ]
    },
    {
      "cell_type": "code",
      "source": [
        "a=[]\n",
        "n=int(input(\"Enter number: \"))\n",
        "for i in range(n):\n",
        "  item=int(input(f\"Enter {i+1}th number: \"))\n",
        "  a.append(item)\n",
        "print(a)"
      ],
      "metadata": {
        "colab": {
          "base_uri": "https://localhost:8080/"
        },
        "id": "3RuGqzsNH2OW",
        "outputId": "550ef446-6353-4f8c-98b1-b207462606c9"
      },
      "execution_count": null,
      "outputs": [
        {
          "output_type": "stream",
          "name": "stdout",
          "text": [
            "Enter number: 5\n",
            "Enter 1th number: 2\n",
            "Enter 2th number: 3\n",
            "Enter 3th number: 4\n",
            "Enter 4th number: 5\n",
            "Enter 5th number: 8\n",
            "[2, 3, 4, 5, 8]\n"
          ]
        }
      ]
    },
    {
      "cell_type": "code",
      "source": [
        "# PROGRAM FOR SHOP BILL COUNTER\n",
        "items=[]\n",
        "amounts=[]\n",
        "discounts=[]\n",
        "n=3\n",
        "totalbill=0\n",
        "total_discount=0\n",
        "for i in range(n):\n",
        "  item=input(f\"Enter item number {i+1}: \")\n",
        "  amount=int(input(f\"Enter amount of {i+1} item: \"))\n",
        "  discount=int(input(f\"Enter the discount of {i+1} item: \"))\n",
        "  items.append(item)\n",
        "  amounts.append(amount)\n",
        "  discounts.append(discount)\n",
        "  totalbill=totalbill+amount\n",
        "dis=totalbill*discount/100\n",
        "total_discount=total_discount+dis\n",
        "print(\"Items\",items)\n",
        "print(\"Amounts\",amounts)\n",
        "print(\"Discounts\",discounts)\n",
        "print(\"Total bill\",totalbill)\n",
        "print(\"Total_Discount\",total_discount)\n",
        "print(\"Payble Amount\",totalbill-total_discount)"
      ],
      "metadata": {
        "colab": {
          "base_uri": "https://localhost:8080/"
        },
        "id": "urZvbQmeJVO7",
        "outputId": "bde7f3b6-6676-423d-9c3e-b5001f0a125a"
      },
      "execution_count": null,
      "outputs": [
        {
          "output_type": "stream",
          "name": "stdout",
          "text": [
            "Enter item number 1: tv\n",
            "Enter amount of 1 item: 20000\n",
            "Enter the discount of 1 item: 10\n",
            "Enter item number 2: ac\n",
            "Enter amount of 2 item: 30000\n",
            "Enter the discount of 2 item: 10\n",
            "Enter item number 3: fridge\n",
            "Enter amount of 3 item: 40000\n",
            "Enter the discount of 3 item: 10\n",
            "Items ['tv', 'ac', 'fridge']\n",
            "Amounts [20000, 30000, 40000]\n",
            "Discounts [10, 10, 10]\n",
            "Total bill 90000\n",
            "Total_Discount 9000.0\n",
            "Payble Amount 81000.0\n"
          ]
        }
      ]
    },
    {
      "cell_type": "code",
      "source": [
        "#FLOWER SHOP BILL COUNTER\n",
        "flower=[]\n",
        "price=[]\n",
        "discount=[]\n",
        "totalbill=0\n",
        "total_discount=0\n",
        "n=3\n",
        "for i in range(n):\n",
        "  flowers=input(f\"Enter name of {i+1} flower :\")\n",
        "  prices=int(input(f\"Enter price of {i+1} flower: \"))\n",
        "  discounts=int(input(f\"Enter discount on {i+1} flower: \"))\n",
        "\n",
        "  flower.append(flowers)\n",
        "  price.append(prices)\n",
        "  discount.append(discounts)\n",
        "  totalbill=totalbill+prices\n",
        "  dis=totalbill*discounts/100\n",
        "  total_discount=total_discount+dis\n",
        "  bill_after_discount=totalbill-total_discount\n",
        "print(\"Flowers: \",flower)\n",
        "print(\"Price: \",price)\n",
        "print(\"Discount: \",discount)\n",
        "print(\"Total bill: \",totalbill)\n",
        "print(\"Total Discount: \",total_discount)\n",
        "print(\"Bill After Discount: \",bill_after_discount)\n",
        "coupan=input(\"Enter Your Coupan Code: \")\n",
        "if coupan==\"DIWALI\":\n",
        "   dis1=bill_after_discount*10/100\n",
        "   payble_amount=bill_after_discount-dis1\n",
        "   print(\"Congratulations You got more 10% Discount: \")\n",
        "   print(\"Now your payble amount is: \",payble_amount)\n",
        "else:\n",
        "   print(\"You are Not valid for discount:\")\n",
        "   print(\"Now your payble amount is: \",bill_after_discount)\n",
        "\n",
        "\n",
        "\n"
      ],
      "metadata": {
        "id": "MX6XljskJzUt",
        "colab": {
          "base_uri": "https://localhost:8080/"
        },
        "outputId": "e9a1f0e1-b579-4f56-c730-e3baaf616e95"
      },
      "execution_count": null,
      "outputs": [
        {
          "output_type": "stream",
          "name": "stdout",
          "text": [
            "Enter name of 1 flower :lily\n",
            "Enter price of 1 flower: 200\n",
            "Enter discount on 1 flower: 10\n",
            "Enter name of 2 flower :rose\n",
            "Enter price of 2 flower: 300\n",
            "Enter discount on 2 flower: 10\n",
            "Enter name of 3 flower :sunflower\n",
            "Enter price of 3 flower: 400\n",
            "Enter discount on 3 flower: 20\n",
            "Flowers:  ['lily', 'rose', 'sunflower']\n",
            "Price:  [200, 300, 400]\n",
            "Discount:  [10, 10, 20]\n",
            "Total bill:  900\n",
            "Total Discount:  250.0\n",
            "Bill After Discount:  650.0\n",
            "Enter Your Coupan Code: DIWALI\n",
            "Congratulations You got more 10% Discount: \n",
            "Now your payble amount is:  585.0\n"
          ]
        }
      ]
    },
    {
      "cell_type": "code",
      "source": [
        "item=[]\n",
        "price=[]\n",
        "discount=[]\n",
        "totalbill=0\n",
        "total_discount=0\n",
        "n=3\n",
        "for i in range(n):\n",
        "  items=input(f\"Enter your cosmetic item {i+1} : \")\n",
        "  prices=int(input(f\"Enter your price of item {i+1} :\"))\n",
        "  discounts=int(input(f\"Enter discount on item {i+1} :\"))\n",
        "  item.append(items)\n",
        "  price.append(prices)\n",
        "  discount.append(discounts)\n",
        "  totalbill=totalbill+prices\n",
        "  dis=totalbill*discounts/100\n",
        "  total_discount=total_discount+dis\n",
        "  bill=totalbill-total_discount\n",
        "print(\"Items \",item)\n",
        "print(\"Price \",price)\n",
        "print(\"Discount \",discount)\n",
        "print(\"Total bill \",totalbill)\n",
        "print(\"Total Discount \",total_discount)\n",
        "print(\"Payble amount \",bill)\n",
        "\n"
      ],
      "metadata": {
        "id": "tGi3TUoBQOBC"
      },
      "execution_count": null,
      "outputs": []
    },
    {
      "cell_type": "code",
      "source": [],
      "metadata": {
        "id": "ylfJY3xOK3ji"
      },
      "execution_count": null,
      "outputs": []
    }
  ]
}