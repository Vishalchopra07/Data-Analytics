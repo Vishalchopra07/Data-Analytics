{
  "nbformat": 4,
  "nbformat_minor": 0,
  "metadata": {
    "colab": {
      "provenance": [],
      "authorship_tag": "ABX9TyOWIKJNZl2aAvtXDBFuWB0m",
      "include_colab_link": true
    },
    "kernelspec": {
      "name": "python3",
      "display_name": "Python 3"
    },
    "language_info": {
      "name": "python"
    }
  },
  "cells": [
    {
      "cell_type": "markdown",
      "metadata": {
        "id": "view-in-github",
        "colab_type": "text"
      },
      "source": [
        "<a href=\"https://colab.research.google.com/github/Vishalchopra07/Data-Analytics/blob/main/Pandas.ipynb\" target=\"_parent\"><img src=\"https://colab.research.google.com/assets/colab-badge.svg\" alt=\"Open In Colab\"/></a>"
      ]
    },
    {
      "cell_type": "code",
      "execution_count": 11,
      "metadata": {
        "colab": {
          "base_uri": "https://localhost:8080/"
        },
        "id": "ElwyOI2aE_D4",
        "outputId": "50534898-7bfd-415f-f156-685667319cfd"
      },
      "outputs": [
        {
          "output_type": "stream",
          "name": "stdout",
          "text": [
            "     name  salary\n",
            "0  vishal   20000\n",
            "1  khushi   15000\n",
            "2   harsh   12000\n",
            "3  pulkit   10000\n",
            "4    ashu    8000\n"
          ]
        }
      ],
      "source": [
        "# It creates data into tabular form\n",
        "import pandas as pd\n",
        "employee={\"name\":[\"vishal\",\"khushi\",\"harsh\",\"pulkit\",\"ashu\"],\n",
        "          \"salary\":[20000,15000,12000,10000,8000],\n",
        "          \"post\":[\"DA\",\"DS\",\"AI\",\"ML\",\"DSA\"]}\n",
        "data=pd.DataFrame(employee)\n",
        "#print(data)\n",
        "print(data[[\"name\",\"salary\"]])"
      ]
    },
    {
      "cell_type": "code",
      "source": [
        "data=pd.read_csv(\"sales.csv\")\n",
        "#print(data)\n",
        "#data.head()\n",
        "#data.tail()\n",
        "print(data.groupby(\"State\")[\"Amount\"].sum())  #State Wise Sales\n",
        "print(\"\")\n",
        "print(data.groupby(\"Gender\")[\"Amount\"].sum()) #Gender Wise Sales\n",
        "print(\"\")\n",
        "print(data.groupby(\"Product\")[\"Amount\"].sum()) #Product Wise Sales\n",
        "print(\"\")\n",
        "print(data.groupby([\"State\",\"Product\"])[\"Amount\"].sum()) #State and Product Wise Sales"
      ],
      "metadata": {
        "colab": {
          "base_uri": "https://localhost:8080/"
        },
        "id": "oQUHUVbPGEJ8",
        "outputId": "ca48fdd3-4a1d-47c9-8afa-a2ab9aeb5d19"
      },
      "execution_count": 33,
      "outputs": [
        {
          "output_type": "stream",
          "name": "stdout",
          "text": [
            "State\n",
            "California    12231\n",
            "Florida       13687\n",
            "Illinois      10720\n",
            "New York      10009\n",
            "Texas          6816\n",
            "Name: Amount, dtype: int64\n",
            "\n",
            "Gender\n",
            "F    23086\n",
            "M    30377\n",
            "Name: Amount, dtype: int64\n",
            "\n",
            "Product\n",
            "Headphones    12969\n",
            "Laptop        13312\n",
            "Phone         12851\n",
            "Tablet        14331\n",
            "Name: Amount, dtype: int64\n",
            "\n",
            "State       Product   \n",
            "California  Headphones     684\n",
            "            Laptop        2645\n",
            "            Phone         2373\n",
            "            Tablet        6529\n",
            "Florida     Headphones    1306\n",
            "            Laptop        3042\n",
            "            Phone         4967\n",
            "            Tablet        4372\n",
            "Illinois    Headphones    3878\n",
            "            Laptop        2369\n",
            "            Phone         3350\n",
            "            Tablet        1123\n",
            "New York    Headphones    3253\n",
            "            Laptop        4261\n",
            "            Phone         1361\n",
            "            Tablet        1134\n",
            "Texas       Headphones    3848\n",
            "            Laptop         995\n",
            "            Phone          800\n",
            "            Tablet        1173\n",
            "Name: Amount, dtype: int64\n"
          ]
        }
      ]
    },
    {
      "cell_type": "code",
      "source": [],
      "metadata": {
        "id": "VpQD38hIIYK_"
      },
      "execution_count": 26,
      "outputs": []
    }
  ]
}