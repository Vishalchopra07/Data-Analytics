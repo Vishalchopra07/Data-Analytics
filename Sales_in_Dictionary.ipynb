{
  "nbformat": 4,
  "nbformat_minor": 0,
  "metadata": {
    "colab": {
      "provenance": [],
      "authorship_tag": "ABX9TyP/gWo/SeoiGKxb3c6UtxXy",
      "include_colab_link": true
    },
    "kernelspec": {
      "name": "python3",
      "display_name": "Python 3"
    },
    "language_info": {
      "name": "python"
    }
  },
  "cells": [
    {
      "cell_type": "markdown",
      "metadata": {
        "id": "view-in-github",
        "colab_type": "text"
      },
      "source": [
        "<a href=\"https://colab.research.google.com/github/Vishalchopra07/Data-Analytics/blob/main/Sales_in_Dictionary.ipynb\" target=\"_parent\"><img src=\"https://colab.research.google.com/assets/colab-badge.svg\" alt=\"Open In Colab\"/></a>"
      ]
    },
    {
      "cell_type": "code",
      "execution_count": null,
      "metadata": {
        "colab": {
          "base_uri": "https://localhost:8080/"
        },
        "id": "3C3VXZYNIbdM",
        "outputId": "14ec45c3-d628-4e76-80ee-29011b810399"
      },
      "outputs": [
        {
          "output_type": "stream",
          "name": "stdout",
          "text": [
            "customer :['Vishal', 'Pulkit', 'Khushi', 'Harsh', 'Vibha', 'Ashu', 'Vanshika', 'Arun', 'Vikas', 'Vansh']\n",
            "product :['Fridge', 'AC', 'Computer', 'Fridge', 'Laptop', 'Computer', 'Laptop', 'AC', 'Computer', 'Laptop']\n",
            "purchase :[15000, 35000, 15000, 25000, 50000, 30000, 65000, 38000, 42000, 37000]\n",
            "amount :[20000, 40000, 20000, 30000, 60000, 40000, 70000, 45000, 50000, 45000]\n",
            "state :['Haryana', 'Punjab', 'Himachal', 'Haryana', 'Rajasthan', 'Haryana', 'Himachal', 'Punjab', 'Himachal', 'Rajasthan']\n",
            "gender :['Male', 'Male', 'Female', 'Male', 'Female', 'Male', 'Female', 'Male', 'Male', 'Male']\n",
            "\n",
            "Total Sale is : 420000\n",
            "Profits : [5000, 5000, 5000, 5000, 10000, 10000, 5000, 7000, 8000, 8000]\n",
            "Total Profit : 68000\n",
            "\n",
            "Unique State : ['Haryana', 'Punjab', 'Himachal', 'Rajasthan']\n",
            "State Wise Sales : [90000, 85000, 140000, 105000]\n",
            "\n",
            "State Wise Profits : [20000, 12000, 18000, 18000]\n",
            "Product Wise Sales : [50000, 85000, 110000, 175000]\n"
          ]
        }
      ],
      "source": [
        "sales={\"customer\" :[\"Vishal\",\"Pulkit\",\"Khushi\",\"Harsh\",\"Vibha\",\"Ashu\",\"Vanshika\",\"Arun\",\"Vikas\",\"Vansh\"],\n",
        "       \"product\" :[\"Fridge\",\"AC\",\"Computer\",\"Fridge\",\"Laptop\",\"Computer\",\"Laptop\",\"AC\",\"Computer\",\"Laptop\"],\n",
        "       \"purchase\" :[15000,35000,15000,25000,50000,30000,65000,38000,42000,37000],\n",
        "       \"amount\" :[20000,40000,20000,30000,60000,40000,70000,45000,50000,45000],\n",
        "       \"state\" :[\"Haryana\",\"Punjab\",\"Himachal\",\"Haryana\",\"Rajasthan\",\"Haryana\",\"Himachal\",\"Punjab\",\"Himachal\",\"Rajasthan\"],\n",
        "       \"gender\" :[\"Male\",\"Male\",\"Female\",\"Male\",\"Female\",\"Male\",\"Female\",\"Male\",\"Male\",\"Male\"]}\n",
        "for key,value in sales.items():\n",
        "  print(f\"{key} :{value}\")\n",
        "\n",
        "#For finding Total Sales\n",
        "total_sales=0\n",
        "for sum in sales[\"amount\"]:\n",
        "  total_sales=total_sales+sum\n",
        "print(\"\")\n",
        "print(\"Total Sale is :\",total_sales)\n",
        "\n",
        "#For finding profit\n",
        "profits=[]\n",
        "for profit in range(len(sales[\"amount\"])):\n",
        "  profits.append(sales[\"amount\"][profit]-sales[\"purchase\"][profit])\n",
        "print(\"Profits :\",profits)\n",
        "\n",
        "total_profit=0\n",
        "for i in profits:\n",
        "  total_profit=total_profit+i\n",
        "print(\"Total Profit :\",total_profit)\n",
        "print(\"\")\n",
        "\n",
        "#For finding state wise sales\n",
        "unique_state=[]\n",
        "state_wise_sales=[]\n",
        "for states in sales[\"state\"]:\n",
        "  if states not in unique_state:\n",
        "    unique_state.append(states)\n",
        "    state_wise_sales.append(0)\n",
        "print(\"Unique State :\",unique_state)\n",
        "\n",
        "for j in range(len(sales[\"amount\"])):\n",
        "  index=unique_state.index(sales[\"state\"][j])\n",
        "  state_wise_sales[index]=state_wise_sales[index]+sales[\"amount\"][j]\n",
        "print(\"State Wise Sales :\",state_wise_sales)\n",
        "print(\"\")\n",
        "\n",
        "#For finding state Wise Profit\n",
        "state_wise_profit=[]\n",
        "for s in unique_state:\n",
        " state_wise_profit.append(0)\n",
        "for k in range(len(profits)):\n",
        "  index1=unique_state.index(sales[\"state\"][k])\n",
        "  state_wise_profit[index1]=state_wise_profit[index1]+profits[k]\n",
        "print(\"State Wise Profits :\",state_wise_profit)\n",
        "\n",
        "#For product wise sales\n",
        "unique_product=[]\n",
        "product_wise_sales=[]\n",
        "for products in sales[\"product\"]:\n",
        "  if products not in unique_product:\n",
        "    unique_product.append(products)\n",
        "    product_wise_sales.append(0)\n",
        "for x in range(len(sales[\"amount\"])):\n",
        "  index2=unique_product.index(sales[\"product\"][x])\n",
        "  product_wise_sales[index2]=product_wise_sales[index2]+sales[\"amount\"][x]\n",
        "print(\"Product Wise Sales :\",product_wise_sales)"
      ]
    },
    {
      "cell_type": "code",
      "source": [],
      "metadata": {
        "id": "i_VuTZsjJ9Qm"
      },
      "execution_count": null,
      "outputs": []
    }
  ]
}