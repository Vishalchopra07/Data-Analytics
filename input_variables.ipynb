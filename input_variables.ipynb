{
  "nbformat": 4,
  "nbformat_minor": 0,
  "metadata": {
    "colab": {
      "provenance": [],
      "authorship_tag": "ABX9TyMRi95cOHB4oD877VOiTWe8",
      "include_colab_link": true
    },
    "kernelspec": {
      "name": "python3",
      "display_name": "Python 3"
    },
    "language_info": {
      "name": "python"
    }
  },
  "cells": [
    {
      "cell_type": "markdown",
      "metadata": {
        "id": "view-in-github",
        "colab_type": "text"
      },
      "source": [
        "<a href=\"https://colab.research.google.com/github/Vishalchopra07/Data-Analytics/blob/main/input_variables.ipynb\" target=\"_parent\"><img src=\"https://colab.research.google.com/assets/colab-badge.svg\" alt=\"Open In Colab\"/></a>"
      ]
    },
    {
      "cell_type": "code",
      "execution_count": null,
      "metadata": {
        "id": "uAtUsjUM9QL6",
        "colab": {
          "base_uri": "https://localhost:8080/"
        },
        "outputId": "8f97419b-1571-49bd-ce4b-1b89e4835058"
      },
      "outputs": [
        {
          "output_type": "stream",
          "name": "stdout",
          "text": [
            "Enter your first number:20.33\n",
            "Enter your second number:25.366\n",
            "sum of a and b is: 45.696\n"
          ]
        }
      ],
      "source": [
        "a=float(input(\"Enter your first number:\"))\n",
        "b=float(input(\"Enter your second number:\"))\n",
        "c=(a+b)\n",
        "print(\"sum of a and b is:\",c)"
      ]
    },
    {
      "cell_type": "code",
      "source": [
        "a=int(input(\"Enter your first number:\"))\n",
        "b=int(input(\"Enter your second number:\"))\n",
        "c=(a+b)\n",
        "print(\"sum of a and b is:\",c)"
      ],
      "metadata": {
        "colab": {
          "base_uri": "https://localhost:8080/"
        },
        "id": "ntcMn_vzyiKb",
        "outputId": "accbbd7c-9340-4055-dc04-8864e8dfd25d"
      },
      "execution_count": null,
      "outputs": [
        {
          "output_type": "stream",
          "name": "stdout",
          "text": [
            "Enter your first number:10\n",
            "Enter your second number:50\n",
            "sum of a and b is: 60\n"
          ]
        }
      ]
    },
    {
      "cell_type": "code",
      "source": [
        "a=10\n",
        "b=50\n",
        "c=a+b\n",
        "print(f\"sum of {a} and {b} is {c}\")\n"
      ],
      "metadata": {
        "colab": {
          "base_uri": "https://localhost:8080/"
        },
        "id": "MTkzAjPvzdPC",
        "outputId": "c1d73f5c-ff09-434c-dd00-195053b81a7d"
      },
      "execution_count": null,
      "outputs": [
        {
          "output_type": "stream",
          "name": "stdout",
          "text": [
            "sum of 10 and 50 is 60\n"
          ]
        }
      ]
    },
    {
      "cell_type": "code",
      "source": [],
      "metadata": {
        "id": "gpOQLTy9zfHJ"
      },
      "execution_count": null,
      "outputs": []
    }
  ]
}