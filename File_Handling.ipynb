{
  "nbformat": 4,
  "nbformat_minor": 0,
  "metadata": {
    "colab": {
      "provenance": [],
      "authorship_tag": "ABX9TyP65kxkaMwaihh9kE2WQGm8",
      "include_colab_link": true
    },
    "kernelspec": {
      "name": "python3",
      "display_name": "Python 3"
    },
    "language_info": {
      "name": "python"
    }
  },
  "cells": [
    {
      "cell_type": "markdown",
      "metadata": {
        "id": "view-in-github",
        "colab_type": "text"
      },
      "source": [
        "<a href=\"https://colab.research.google.com/github/Vishalchopra07/Data-Analytics/blob/main/File_Handling.ipynb\" target=\"_parent\"><img src=\"https://colab.research.google.com/assets/colab-badge.svg\" alt=\"Open In Colab\"/></a>"
      ]
    },
    {
      "cell_type": "code",
      "execution_count": null,
      "metadata": {
        "id": "eM1EDqWrwFsv"
      },
      "outputs": [],
      "source": [
        "with open(\"file.txt\",\"w\") as file:\n",
        "  file.write(\"Hello Khusiiiiii\")\n"
      ]
    },
    {
      "cell_type": "code",
      "source": [
        "with open(\"file.txt\",\"r\") as file:\n",
        "  data=file.read()\n",
        "  print(data)"
      ],
      "metadata": {
        "id": "lKOoglW2wS1l",
        "colab": {
          "base_uri": "https://localhost:8080/"
        },
        "outputId": "ad134b8e-e11e-4d9b-c6b6-3dbc8fcd7674"
      },
      "execution_count": null,
      "outputs": [
        {
          "output_type": "stream",
          "name": "stdout",
          "text": [
            "Hello Khusiiiiii\n"
          ]
        }
      ]
    },
    {
      "cell_type": "code",
      "source": [
        "with open(\"file.txt\",\"a\") as file:\n",
        "  file.write(\"khusiiii\")"
      ],
      "metadata": {
        "id": "z7Z92F4lzSLJ"
      },
      "execution_count": null,
      "outputs": []
    },
    {
      "cell_type": "code",
      "source": [
        "with open(\"file.txt\",\"r\") as file:\n",
        "  data=file.read()\n",
        "  print(data)"
      ],
      "metadata": {
        "colab": {
          "base_uri": "https://localhost:8080/"
        },
        "id": "qQHGn3BP1WjE",
        "outputId": "848ba888-1111-450b-ddcd-e74d977d95b9"
      },
      "execution_count": null,
      "outputs": [
        {
          "output_type": "stream",
          "name": "stdout",
          "text": [
            "Hello Khusiiiiiikhusiiii\n"
          ]
        }
      ]
    },
    {
      "cell_type": "code",
      "source": [
        "with open(\"file 1\",\"w\") as file:\n",
        "  file.write(\"Vishal\")\n"
      ],
      "metadata": {
        "id": "Jth8Wtbc1cTI"
      },
      "execution_count": null,
      "outputs": []
    },
    {
      "cell_type": "code",
      "source": [
        "with open(\"file 2\",\"w\") as file:\n",
        "  file.write(\"Chopra\")"
      ],
      "metadata": {
        "id": "1IYguUjE15Sc"
      },
      "execution_count": null,
      "outputs": []
    },
    {
      "cell_type": "code",
      "source": [
        "with open(\"file 1\",\"r\") as file:\n",
        "  data1=file.read()\n",
        "  print(data1)"
      ],
      "metadata": {
        "colab": {
          "base_uri": "https://localhost:8080/"
        },
        "id": "HZmx2inN2CZ8",
        "outputId": "85722351-fc5c-423b-966a-9bda65024e44"
      },
      "execution_count": null,
      "outputs": [
        {
          "output_type": "stream",
          "name": "stdout",
          "text": [
            "Vishal\n"
          ]
        }
      ]
    },
    {
      "cell_type": "code",
      "source": [
        "with open(\"file 2\",\"r\") as file:\n",
        "  data2=file.read()\n",
        "  print(data2)"
      ],
      "metadata": {
        "colab": {
          "base_uri": "https://localhost:8080/"
        },
        "id": "NIV__PvK2XTA",
        "outputId": "d2ed3fef-591f-4383-9ac2-70fe76312c7a"
      },
      "execution_count": null,
      "outputs": [
        {
          "output_type": "stream",
          "name": "stdout",
          "text": [
            "Chopra\n"
          ]
        }
      ]
    },
    {
      "cell_type": "code",
      "source": [
        "with open(\"file 3\",\"w\") as file:\n",
        "  file.write(data1+\" \"+data2)"
      ],
      "metadata": {
        "id": "7hMGNpP_2zOw"
      },
      "execution_count": null,
      "outputs": []
    },
    {
      "cell_type": "code",
      "source": [
        "with open(\"file 3\",\"r\") as file:\n",
        "  data3=file.read()\n",
        "  print(data3)"
      ],
      "metadata": {
        "colab": {
          "base_uri": "https://localhost:8080/"
        },
        "id": "1RxzZPk439xt",
        "outputId": "dcb83c28-a48a-4921-9219-fb9c498d0db4"
      },
      "execution_count": null,
      "outputs": [
        {
          "output_type": "stream",
          "name": "stdout",
          "text": [
            "Vishal Chopra\n"
          ]
        }
      ]
    },
    {
      "cell_type": "code",
      "source": [
        "import csv\n",
        "customer,gender,state,product,amount=[],[],[],[],[]\n",
        "with open(\"sales.csv\",\"r\") as file:\n",
        "  reader=csv.reader(file)\n",
        "  header=next(reader)\n",
        "  data=list(reader)\n",
        "for i in data:\n",
        "\n",
        "  customer.append(i[0])\n",
        "  gender.append(i[1])\n",
        "  state.append(i[2])\n",
        "  product.append(i[3])\n",
        "  amount.append(int(i[4]))\n",
        "\n",
        "print(\"Customer\",customer)\n",
        "print(\"Gender\",gender)\n",
        "print(\"State\",state)\n",
        "print(\"Product\",product)\n",
        "print(\"Amount\",amount)\n",
        "total_sale=0\n",
        "for sale in amount:\n",
        "  total_sale=total_sale+sale\n",
        "print(\"Total Sale\",total_sale)"
      ],
      "metadata": {
        "colab": {
          "base_uri": "https://localhost:8080/"
        },
        "id": "WfDE1dQ24IWx",
        "outputId": "358ddaa5-f342-40c5-f5c6-3cb012081531"
      },
      "execution_count": null,
      "outputs": [
        {
          "output_type": "stream",
          "name": "stdout",
          "text": [
            "Customer ['Alice', 'Bob', 'Charlie', 'Diana', 'Ethan', 'Fiona', 'George', 'Hannah', 'Ian', 'Jane', 'Kevin', 'Laura', 'Mike', 'Nina', 'Oscar', 'Paula', 'Quinn', 'Rita', 'Sam', 'Tina', 'Uma', 'Victor', 'Wendy', 'Xander', 'Yara', 'Zane', 'Liam', 'Mia', 'Noah', 'Olivia', 'Peter', 'Sophia', 'James', 'Ava', 'Henry', 'Emily', 'Daniel', 'Grace', 'Jacob', 'Ella', 'Lucas', 'Amelia', 'Mason', 'Harper', 'Logan', 'Evelyn', 'Ethan', 'Abigail', 'Elijah', 'Charlotte']\n",
            "Gender ['F', 'M', 'M', 'F', 'M', 'F', 'M', 'F', 'M', 'F', 'M', 'F', 'M', 'F', 'F', 'M', 'M', 'F', 'F', 'M', 'M', 'F', 'M', 'F', 'M', 'M', 'F', 'F', 'F', 'M', 'M', 'M', 'M', 'F', 'M', 'F', 'M', 'M', 'F', 'F', 'F', 'M', 'M', 'F', 'M', 'F', 'M', 'M', 'M', 'F']\n",
            "State ['California', 'Texas', 'California', 'New York', 'Texas', 'Florida', 'California', 'Texas', 'Florida', 'New York', 'New York', 'California', 'Florida', 'California', 'California', 'Texas', 'Florida', 'New York', 'New York', 'California', 'Illinois', 'Illinois', 'Texas', 'Florida', 'Illinois', 'Florida', 'Florida', 'California', 'Illinois', 'New York', 'Florida', 'Illinois', 'Texas', 'Florida', 'Illinois', 'Illinois', 'Florida', 'New York', 'Illinois', 'Illinois', 'Texas', 'New York', 'Florida', 'California', 'California', 'Florida', 'Texas', 'New York', 'Illinois', 'California']\n",
            "Product ['Laptop', 'Phone', 'Tablet', 'Laptop', 'Headphones', 'Phone', 'Phone', 'Tablet', 'Laptop', 'Headphones', 'Laptop', 'Tablet', 'Headphones', 'Laptop', 'Tablet', 'Headphones', 'Phone', 'Tablet', 'Laptop', 'Tablet', 'Phone', 'Headphones', 'Tablet', 'Headphones', 'Laptop', 'Phone', 'Laptop', 'Tablet', 'Headphones', 'Phone', 'Tablet', 'Tablet', 'Headphones', 'Phone', 'Tablet', 'Laptop', 'Laptop', 'Laptop', 'Headphones', 'Phone', 'Laptop', 'Headphones', 'Tablet', 'Tablet', 'Headphones', 'Tablet', 'Laptop', 'Headphones', 'Headphones', 'Phone']\n",
            "Amount [1200, 800, 450, 1300, 200, 850, 750, 500, 1400, 220, 976, 1186, 315, 1445, 560, 1998, 526, 1134, 412, 1901, 1925, 697, 673, 991, 1173, 1773, 659, 1745, 1070, 1361, 1424, 219, 1650, 1818, 904, 1196, 983, 1573, 603, 1425, 331, 1614, 1514, 687, 684, 1434, 664, 1419, 1508, 1623]\n",
            "Total Sale 53463\n"
          ]
        }
      ]
    },
    {
      "cell_type": "code",
      "source": [
        "with open(\"xyz.txt\",\"w\") as file:\n",
        "  file.write(\"Hello World \\n\")\n",
        "  file.write(\"How Are You \\n\")\n",
        "  file.write(\"chandigarh \\n\")"
      ],
      "metadata": {
        "id": "oITv_Ufj8BCQ"
      },
      "execution_count": null,
      "outputs": []
    },
    {
      "cell_type": "code",
      "source": [
        "with open(\"xyz.txt\",\"r\") as file:\n",
        "  reader=file.read()\n",
        "print(reader)"
      ],
      "metadata": {
        "colab": {
          "base_uri": "https://localhost:8080/"
        },
        "id": "8y8MIbr79vZR",
        "outputId": "2f9e6eb2-8eec-46b1-a068-f785f2739e63"
      },
      "execution_count": null,
      "outputs": [
        {
          "output_type": "stream",
          "name": "stdout",
          "text": [
            "Hello World \n",
            "How Are You \n",
            "chandigarh \n",
            "\n"
          ]
        }
      ]
    },
    {
      "cell_type": "code",
      "source": [
        "with open(\"xyz.txt\",\"r\") as file:\n",
        "  reader=file.readline()\n",
        "print(reader)"
      ],
      "metadata": {
        "colab": {
          "base_uri": "https://localhost:8080/"
        },
        "id": "9ciqcqg9-3MN",
        "outputId": "e2e9e071-7ba0-4c75-a55f-dbee5161d16c"
      },
      "execution_count": null,
      "outputs": [
        {
          "output_type": "stream",
          "name": "stdout",
          "text": [
            "Hello World \n",
            "\n"
          ]
        }
      ]
    },
    {
      "cell_type": "code",
      "source": [
        "with open(\"xyz.txt\",\"r\") as file:\n",
        "  reader=file.readlines()\n",
        "print(reader)\n",
        "for i in reader:\n",
        "  print(i)"
      ],
      "metadata": {
        "colab": {
          "base_uri": "https://localhost:8080/"
        },
        "id": "OJg4Ay-p_Kfl",
        "outputId": "1a1e160e-93b4-4e09-f3b1-211f6a654ac1"
      },
      "execution_count": null,
      "outputs": [
        {
          "output_type": "stream",
          "name": "stdout",
          "text": [
            "['Hello World \\n', 'How Are You \\n', 'chandigarh \\n']\n",
            "Hello World \n",
            "\n",
            "How Are You \n",
            "\n",
            "chandigarh \n",
            "\n"
          ]
        }
      ]
    },
    {
      "cell_type": "code",
      "source": [],
      "metadata": {
        "id": "YqHK_Wcm_UuV"
      },
      "execution_count": null,
      "outputs": []
    }
  ]
}