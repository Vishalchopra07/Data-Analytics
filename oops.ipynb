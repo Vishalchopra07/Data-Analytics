{
  "nbformat": 4,
  "nbformat_minor": 0,
  "metadata": {
    "colab": {
      "provenance": [],
      "authorship_tag": "ABX9TyPkh1s3blpUyLkg+5hvZlWH",
      "include_colab_link": true
    },
    "kernelspec": {
      "name": "python3",
      "display_name": "Python 3"
    },
    "language_info": {
      "name": "python"
    }
  },
  "cells": [
    {
      "cell_type": "markdown",
      "metadata": {
        "id": "view-in-github",
        "colab_type": "text"
      },
      "source": [
        "<a href=\"https://colab.research.google.com/github/Vishalchopra07/Data-Analytics/blob/main/oops.ipynb\" target=\"_parent\"><img src=\"https://colab.research.google.com/assets/colab-badge.svg\" alt=\"Open In Colab\"/></a>"
      ]
    },
    {
      "cell_type": "code",
      "execution_count": 3,
      "metadata": {
        "colab": {
          "base_uri": "https://localhost:8080/"
        },
        "id": "eGN3vbvgp_20",
        "outputId": "48e81d7d-89bf-40b2-e420-82a13375771b"
      },
      "outputs": [
        {
          "output_type": "stream",
          "name": "stdout",
          "text": [
            "shirt\n",
            "1000\n"
          ]
        }
      ],
      "source": [
        "class product:\n",
        "  def info(self):\n",
        "    print(\"shirt\")\n",
        "  def price(self):\n",
        "    print(\"1000\")\n",
        "obj=product()\n",
        "obj.info()\n",
        "obj.price()"
      ]
    },
    {
      "cell_type": "code",
      "source": [
        "class Employee:\n",
        "  def __init__(self,salary,bonus_p):\n",
        "    self.salary=salary\n",
        "    self.bonus_p=bonus_p\n",
        "    total_bonus=salary*bonus_p/100\n",
        "    print(total_bonus)\n",
        "obj=Employee(100000,10)\n"
      ],
      "metadata": {
        "colab": {
          "base_uri": "https://localhost:8080/"
        },
        "id": "4yZ_Ooq-qM4v",
        "outputId": "8937b049-9815-4c28-adc8-7c90edd607bf"
      },
      "execution_count": 6,
      "outputs": [
        {
          "output_type": "stream",
          "name": "stdout",
          "text": [
            "10000.0\n"
          ]
        }
      ]
    },
    {
      "cell_type": "code",
      "source": [
        "class employee:\n",
        "  def info(self):\n",
        "    print(\"hello\")\n",
        "class department(employee):\n",
        "  def dept(self):\n",
        "    print(\"department is sales\")\n",
        "obj=department()\n",
        "obj.info()\n",
        "obj.dept()"
      ],
      "metadata": {
        "colab": {
          "base_uri": "https://localhost:8080/"
        },
        "id": "3RsN-y8bv5XS",
        "outputId": "58769743-d7f6-416d-ecb5-7b3ca8542eed"
      },
      "execution_count": null,
      "outputs": [
        {
          "output_type": "stream",
          "name": "stdout",
          "text": [
            "hello\n",
            "department is sales\n"
          ]
        }
      ]
    },
    {
      "cell_type": "code",
      "source": [],
      "metadata": {
        "id": "cU4ZmelUz4zL"
      },
      "execution_count": null,
      "outputs": []
    }
  ]
}