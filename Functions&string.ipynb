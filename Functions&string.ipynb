{
  "nbformat": 4,
  "nbformat_minor": 0,
  "metadata": {
    "colab": {
      "provenance": [],
      "authorship_tag": "ABX9TyNiDEi7kbD8vudxD+g9zNmP",
      "include_colab_link": true
    },
    "kernelspec": {
      "name": "python3",
      "display_name": "Python 3"
    },
    "language_info": {
      "name": "python"
    }
  },
  "cells": [
    {
      "cell_type": "markdown",
      "metadata": {
        "id": "view-in-github",
        "colab_type": "text"
      },
      "source": [
        "<a href=\"https://colab.research.google.com/github/Vishalchopra07/Data-Analytics/blob/main/Functions%26string.ipynb\" target=\"_parent\"><img src=\"https://colab.research.google.com/assets/colab-badge.svg\" alt=\"Open In Colab\"/></a>"
      ]
    },
    {
      "cell_type": "code",
      "execution_count": null,
      "metadata": {
        "colab": {
          "base_uri": "https://localhost:8080/"
        },
        "id": "dJwS35xuFG2w",
        "outputId": "def922e1-5759-4e49-a3fc-62157f4badf0"
      },
      "outputs": [
        {
          "output_type": "stream",
          "name": "stdout",
          "text": [
            "Hello World\n"
          ]
        }
      ],
      "source": [
        "def first():\n",
        "  print(\"Hello World\")\n",
        "first()\n"
      ]
    },
    {
      "cell_type": "code",
      "source": [
        " def add(a,b):v\n",
        "  return a+b\n",
        "x=add(10,20)\n",
        "print(x)\n",
        "y=add(30,40)\n",
        "print(y)"
      ],
      "metadata": {
        "colab": {
          "base_uri": "https://localhost:8080/"
        },
        "id": "03Ms6QW3GCCF",
        "outputId": "fdce75d3-3032-4099-92a2-58ae2aec9768"
      },
      "execution_count": null,
      "outputs": [
        {
          "output_type": "stream",
          "name": "stdout",
          "text": [
            "30\n",
            "70\n"
          ]
        }
      ]
    },
    {
      "cell_type": "code",
      "source": [
        "def factorial(x):\n",
        "   fact=1\n",
        "   for i in range(1,x+1):\n",
        "      fact=fact*i\n",
        "   return(fact)\n",
        "factorial(5)\n"
      ],
      "metadata": {
        "colab": {
          "base_uri": "https://localhost:8080/"
        },
        "id": "7fPOKOZPHOz4",
        "outputId": "f9f580ed-8c2a-41cd-c0eb-95b8ae2dc86d"
      },
      "execution_count": null,
      "outputs": [
        {
          "output_type": "execute_result",
          "data": {
            "text/plain": [
              "120"
            ]
          },
          "metadata": {},
          "execution_count": 30
        }
      ]
    },
    {
      "cell_type": "code",
      "source": [
        "sum=0\n",
        "n=5768\n",
        "while n>0:\n",
        " digit=n%10\n",
        " sum=digit+sum\n",
        " n=n//10\n",
        "print(sum)"
      ],
      "metadata": {
        "id": "azbygJR4JZtr",
        "colab": {
          "base_uri": "https://localhost:8080/"
        },
        "outputId": "1e3ca307-af3c-4fbc-9ee6-8214d9f7bcb8"
      },
      "execution_count": null,
      "outputs": [
        {
          "output_type": "stream",
          "name": "stdout",
          "text": [
            "26\n"
          ]
        }
      ]
    },
    {
      "cell_type": "code",
      "source": [
        "def digit(n):\n",
        "  sum=0\n",
        "  while n>0:\n",
        "    digit=n%10\n",
        "    sum=sum+digit\n",
        "    n=n//10\n",
        "    print(digit)\n",
        "digit(5678)"
      ],
      "metadata": {
        "colab": {
          "base_uri": "https://localhost:8080/"
        },
        "id": "LEPiHGWwOWKr",
        "outputId": "e3c2dbd1-b620-4814-a6cc-dfabedb2a3ae"
      },
      "execution_count": null,
      "outputs": [
        {
          "output_type": "stream",
          "name": "stdout",
          "text": [
            "8\n",
            "7\n",
            "6\n",
            "5\n"
          ]
        }
      ]
    },
    {
      "cell_type": "code",
      "source": [
        "def reverse(n):\n",
        "  reverse=0\n",
        "  while n>0:\n",
        "    digit=n%10\n",
        "    reverse=reverse*10+digit\n",
        "    n=n//10\n",
        "  return(reverse)\n",
        "reverse(5678)\n"
      ],
      "metadata": {
        "colab": {
          "base_uri": "https://localhost:8080/"
        },
        "id": "mZARIkdrOuBY",
        "outputId": "9cb09d18-c6cd-4dfc-a567-209c6b5ae10c"
      },
      "execution_count": null,
      "outputs": [
        {
          "output_type": "execute_result",
          "data": {
            "text/plain": [
              "8765"
            ]
          },
          "metadata": {},
          "execution_count": 61
        }
      ]
    },
    {
      "cell_type": "code",
      "source": [
        "def fibonacci(x):\n",
        " first=0\n",
        " second=1\n",
        " print(first)\n",
        " print(second)\n",
        " for i in range(3,x+1):\n",
        "  third=first+second\n",
        "  print(third)\n",
        "  first=second\n",
        "  second=third\n",
        "fibonacci(10)\n"
      ],
      "metadata": {
        "id": "nYS3afvDSHSV",
        "colab": {
          "base_uri": "https://localhost:8080/"
        },
        "outputId": "7fa448fc-dad6-4fd4-fd50-6a98d492cc0d"
      },
      "execution_count": null,
      "outputs": [
        {
          "output_type": "stream",
          "name": "stdout",
          "text": [
            "0\n",
            "1\n",
            "1\n",
            "2\n",
            "3\n",
            "5\n",
            "8\n",
            "13\n",
            "21\n",
            "34\n"
          ]
        }
      ]
    },
    {
      "cell_type": "code",
      "source": [
        "def LCM(a,b):\n",
        "  if a>b:\n",
        "    greater=a\n",
        "  else:\n",
        "    greater=b\n",
        "  for i in range(greater,a*b+1):\n",
        "    if i%a==0 and i%b==0:\n",
        "      LCM=i\n",
        "      break\n",
        "  print(LCM)\n",
        "x=LCM(10,20)\n",
        "y=LCM(25,50)"
      ],
      "metadata": {
        "id": "VThk61BhTXH_",
        "colab": {
          "base_uri": "https://localhost:8080/"
        },
        "outputId": "32ec25a2-8136-4fb1-d15e-f8ceed013867"
      },
      "execution_count": null,
      "outputs": [
        {
          "output_type": "stream",
          "name": "stdout",
          "text": [
            "20\n",
            "50\n"
          ]
        }
      ]
    },
    {
      "cell_type": "code",
      "source": [
        "#args function\n",
        "def add_num(*args):\n",
        "  return sum(args)\n",
        "x=add_num(10,20)\n",
        "y=add_num(1,2,5,8)\n",
        "print(x)\n",
        "print(y)"
      ],
      "metadata": {
        "id": "ijegLiP_MOd2",
        "colab": {
          "base_uri": "https://localhost:8080/"
        },
        "outputId": "3e464f07-d82a-49a5-b0d4-f13cf6d5918b"
      },
      "execution_count": null,
      "outputs": [
        {
          "output_type": "stream",
          "name": "stdout",
          "text": [
            "30\n",
            "16\n"
          ]
        }
      ]
    },
    {
      "cell_type": "code",
      "source": [
        "def add(*args):\n",
        " sum1=0\n",
        " for i in args:\n",
        "  sum1=sum1+i\n",
        " print(sum1)\n",
        "add(10,20,30)\n",
        "\n"
      ],
      "metadata": {
        "colab": {
          "base_uri": "https://localhost:8080/"
        },
        "id": "Q_PhjcU_ZiBL",
        "outputId": "8db11c3f-46fc-4c78-b834-5190cc883e7a"
      },
      "execution_count": null,
      "outputs": [
        {
          "output_type": "stream",
          "name": "stdout",
          "text": [
            "60\n"
          ]
        }
      ]
    },
    {
      "cell_type": "code",
      "source": [
        "# program for divide sum of number by 2\n",
        "def add(a,b):\n",
        " return a+b\n",
        "def average(num):\n",
        " return num/2\n",
        "sum=add(10,20)\n",
        "average=sum/2\n",
        "print(average)\n",
        "\n"
      ],
      "metadata": {
        "id": "oPGJg8XAbcHT",
        "colab": {
          "base_uri": "https://localhost:8080/"
        },
        "outputId": "07cd0d15-1adf-4a53-ccf9-c539f7909952"
      },
      "execution_count": null,
      "outputs": [
        {
          "output_type": "stream",
          "name": "stdout",
          "text": [
            "15.0\n"
          ]
        }
      ]
    },
    {
      "cell_type": "code",
      "source": [
        "# program for divide sum of number by 2\n",
        "def add(a,b):\n",
        " return a+b\n",
        "def avg(num):\n",
        " return num/2\n",
        "sum=add(50,20)\n",
        "average=avg(sum)\n",
        "print(average)\n"
      ],
      "metadata": {
        "colab": {
          "base_uri": "https://localhost:8080/"
        },
        "id": "OGMVx_-kUs0d",
        "outputId": "22d2225c-224d-4cec-dfb3-a65868cc6a27"
      },
      "execution_count": null,
      "outputs": [
        {
          "output_type": "stream",
          "name": "stdout",
          "text": [
            "35.0\n"
          ]
        }
      ]
    },
    {
      "cell_type": "code",
      "source": [
        "#For printing single letter of name\n",
        "name=\"Environment\"\n",
        "print(name[0])\n",
        "if \"a\" in name:\n",
        " print(\"available\")\n",
        "else:\n",
        "  print(\"Not Available\")"
      ],
      "metadata": {
        "colab": {
          "base_uri": "https://localhost:8080/"
        },
        "id": "793Urj8baoHl",
        "outputId": "528fe6cb-aa58-4e15-fa4b-b8c90ac44434"
      },
      "execution_count": null,
      "outputs": [
        {
          "output_type": "stream",
          "name": "stdout",
          "text": [
            "E\n",
            "Not Available\n"
          ]
        }
      ]
    },
    {
      "cell_type": "code",
      "source": [
        "name=\"manthan\"\n",
        "print(name[-7:])"
      ],
      "metadata": {
        "colab": {
          "base_uri": "https://localhost:8080/"
        },
        "id": "6bFn794Bb516",
        "outputId": "f8f0394f-1f0a-47fa-c945-3e3bc949f7b5"
      },
      "execution_count": null,
      "outputs": [
        {
          "output_type": "stream",
          "name": "stdout",
          "text": [
            "manthan\n"
          ]
        }
      ]
    },
    {
      "cell_type": "code",
      "source": [
        "#For reverse\n",
        "name=\"Vansh\"\n",
        "print(name[::-1])"
      ],
      "metadata": {
        "colab": {
          "base_uri": "https://localhost:8080/"
        },
        "id": "QF6AtY0AfV29",
        "outputId": "d6a55eb4-9e6f-46e0-bf5e-fecbd72d05d6"
      },
      "execution_count": null,
      "outputs": [
        {
          "output_type": "stream",
          "name": "stdout",
          "text": [
            "hsnaV\n"
          ]
        }
      ]
    },
    {
      "cell_type": "code",
      "source": [
        "#for Palindrome\n",
        "number=\"12321\"\n",
        "reverse=number[::-1]\n",
        "if number==reverse:\n",
        "  print(\"Palindrome number\")\n",
        "else:\n",
        "  print(\"Not Palindrome number\")"
      ],
      "metadata": {
        "colab": {
          "base_uri": "https://localhost:8080/"
        },
        "id": "L6l8KJyggfk2",
        "outputId": "32266659-281d-4e6c-a957-24e04f3010a8"
      },
      "execution_count": null,
      "outputs": [
        {
          "output_type": "stream",
          "name": "stdout",
          "text": [
            "Palindrome number\n"
          ]
        }
      ]
    },
    {
      "cell_type": "code",
      "source": [
        "#For palindrome and divide number\n",
        "number=12344321\n",
        "reverse=str(number)[::-1]\n",
        "if number==int(reverse):\n",
        "  print(\"Palindrome\")\n",
        "else:\n",
        "  print(\"Not palindrome\")\n",
        "print(num/2)\n"
      ],
      "metadata": {
        "colab": {
          "base_uri": "https://localhost:8080/"
        },
        "id": "K64Ykgbigz8-",
        "outputId": "96b0818a-0cf4-4c1e-fc5e-c347b3c25ba1"
      },
      "execution_count": null,
      "outputs": [
        {
          "output_type": "stream",
          "name": "stdout",
          "text": [
            "Palindrome\n",
            "6172160.5\n"
          ]
        }
      ]
    },
    {
      "cell_type": "code",
      "source": [
        "#for printing single letters\n",
        "name=\"Vishal\"\n",
        "for i in name:\n",
        " print(i)"
      ],
      "metadata": {
        "colab": {
          "base_uri": "https://localhost:8080/"
        },
        "id": "6doTovk0iDOi",
        "outputId": "ed2755ea-bf1b-4105-a359-00d97d09a8c6"
      },
      "execution_count": null,
      "outputs": [
        {
          "output_type": "stream",
          "name": "stdout",
          "text": [
            "V\n",
            "i\n",
            "s\n",
            "h\n",
            "a\n",
            "l\n"
          ]
        }
      ]
    },
    {
      "cell_type": "code",
      "source": [
        "#for count letters\n",
        "name=\"Vishal\"\n",
        "x=\"V\"\n",
        "count=0\n",
        "for char in name:\n",
        "  if char==x:\n",
        "    count=count+1\n",
        "print(count)"
      ],
      "metadata": {
        "id": "JnEHT1uSni2H",
        "colab": {
          "base_uri": "https://localhost:8080/"
        },
        "outputId": "3ca5dca8-30b9-409b-fe0c-6c9c55c12583"
      },
      "execution_count": null,
      "outputs": [
        {
          "output_type": "stream",
          "name": "stdout",
          "text": [
            "1\n"
          ]
        }
      ]
    },
    {
      "cell_type": "code",
      "source": [
        "#find number which is divisible by 5 and 10 but not 15 and 20\n",
        "for i in range(1,100):\n",
        "  if i%5==0 and i%10==0 and i%15!=0 and i%20!=0:\n",
        "\n",
        "   print(i)"
      ],
      "metadata": {
        "colab": {
          "base_uri": "https://localhost:8080/"
        },
        "id": "fwIbhkvIxk8h",
        "outputId": "b66b7756-dcf6-48af-fb64-7939437db639"
      },
      "execution_count": null,
      "outputs": [
        {
          "output_type": "stream",
          "name": "stdout",
          "text": [
            "10\n",
            "50\n",
            "70\n"
          ]
        }
      ]
    },
    {
      "cell_type": "code",
      "source": [
        "for i in range(40,80):\n",
        " if i%2!=0 and i%15==0 and i%25!=0:\n",
        "  print(i)"
      ],
      "metadata": {
        "colab": {
          "base_uri": "https://localhost:8080/"
        },
        "id": "bYGIsA7t-172",
        "outputId": "d85a4ec8-31be-4ae7-bb08-13a8c3eb9af8"
      },
      "execution_count": null,
      "outputs": [
        {
          "output_type": "stream",
          "name": "stdout",
          "text": [
            "45\n"
          ]
        }
      ]
    },
    {
      "cell_type": "code",
      "source": [
        "\n",
        "for i in range(1,150):\n",
        "  sum=0\n",
        "  if i%2!=0 and i%3!=0 and i%4!=0 and i%5!=0:\n",
        "   sum=sum+i\n",
        "   print(i)\n"
      ],
      "metadata": {
        "colab": {
          "base_uri": "https://localhost:8080/"
        },
        "id": "GTTD8xuVA3JI",
        "outputId": "aa70396e-402c-4ee6-e11d-1be64e79936c"
      },
      "execution_count": null,
      "outputs": [
        {
          "output_type": "stream",
          "name": "stdout",
          "text": [
            "1\n",
            "7\n",
            "11\n",
            "13\n",
            "17\n",
            "19\n",
            "23\n",
            "29\n",
            "31\n",
            "37\n",
            "41\n",
            "43\n",
            "47\n",
            "49\n",
            "53\n",
            "59\n",
            "61\n",
            "67\n",
            "71\n",
            "73\n",
            "77\n",
            "79\n",
            "83\n",
            "89\n",
            "91\n",
            "97\n",
            "101\n",
            "103\n",
            "107\n",
            "109\n",
            "113\n",
            "119\n",
            "121\n",
            "127\n",
            "131\n",
            "133\n",
            "137\n",
            "139\n",
            "143\n",
            "149\n"
          ]
        }
      ]
    },
    {
      "cell_type": "code",
      "source": [
        "sum1 =0\n",
        "\n",
        "for j in range(1, 25):\n",
        "    if i%2==0 or j%3==0 or j%4==0 or j%5==0:\n",
        "       sum1= sum1+j\n",
        "result = sum - sum1\n",
        "print(sum1)\n",
        "\n"
      ],
      "metadata": {
        "colab": {
          "base_uri": "https://localhost:8080/"
        },
        "id": "9HNWiOlhGjZv",
        "outputId": "b604d159-10a1-495e-b133-56451dab35cb"
      },
      "execution_count": null,
      "outputs": [
        {
          "output_type": "stream",
          "name": "stdout",
          "text": [
            "325\n"
          ]
        }
      ]
    },
    {
      "cell_type": "code",
      "source": [
        "name=\" Hello World\"\n",
        "name.strip()\n",
        "name.replace(\" \",\"\")\n",
        "name.replace(\"l\",\"V\")"
      ],
      "metadata": {
        "id": "DTGrcIpWD8xC",
        "colab": {
          "base_uri": "https://localhost:8080/",
          "height": 36
        },
        "outputId": "98b17fe3-9d7d-4830-ec30-7c7b38d4ccbc"
      },
      "execution_count": null,
      "outputs": [
        {
          "output_type": "execute_result",
          "data": {
            "text/plain": [
              "' HeVVo WorVd'"
            ],
            "application/vnd.google.colaboratory.intrinsic+json": {
              "type": "string"
            }
          },
          "metadata": {},
          "execution_count": 2
        }
      ]
    },
    {
      "cell_type": "code",
      "source": [],
      "metadata": {
        "id": "YgpxzAEHWybI"
      },
      "execution_count": null,
      "outputs": []
    }
  ]
}