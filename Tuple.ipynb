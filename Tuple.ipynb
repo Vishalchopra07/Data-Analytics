{
  "nbformat": 4,
  "nbformat_minor": 0,
  "metadata": {
    "colab": {
      "provenance": [],
      "authorship_tag": "ABX9TyPz+M90qFHmPNlo+1RWn5NN",
      "include_colab_link": true
    },
    "kernelspec": {
      "name": "python3",
      "display_name": "Python 3"
    },
    "language_info": {
      "name": "python"
    }
  },
  "cells": [
    {
      "cell_type": "markdown",
      "metadata": {
        "id": "view-in-github",
        "colab_type": "text"
      },
      "source": [
        "<a href=\"https://colab.research.google.com/github/Vishalchopra07/Data-Analytics/blob/main/Tuple.ipynb\" target=\"_parent\"><img src=\"https://colab.research.google.com/assets/colab-badge.svg\" alt=\"Open In Colab\"/></a>"
      ]
    },
    {
      "cell_type": "code",
      "execution_count": null,
      "metadata": {
        "colab": {
          "base_uri": "https://localhost:8080/"
        },
        "id": "0SAN5bl-CdS5",
        "outputId": "e4884da7-53ed-4558-c8c5-7bc83b635308"
      },
      "outputs": [
        {
          "output_type": "stream",
          "name": "stdout",
          "text": [
            "Customer Name  : ('Vishal', 'Khushi', 'Pulkit', 'Harsh', 'Vibha', 'Vanshu', 'Kanak', 'Muskan', 'Arun', 'Ashu')\n",
            "\n",
            "Item           : ('fridge', 'AC', 'LED', 'Laptop', 'Computer', 'Iphone', 'Headphone', 'Fan', 'Lamp', 'Bike')\n",
            "\n",
            "Price          : (20000, 45000, 50000, 70000, 60000, 45000, 50000, 45000, 60000, 35000)\n",
            "\n",
            "State          : ('Haryana', 'Himachal', 'Punjab', 'Haryana', 'Himachal', 'Punjab', 'Haryana', 'Himachal', 'Punjab', 'Haryana')\n",
            "\n",
            "Gender         : ('Male', 'Female', 'Male', 'Male', 'Female', 'Female', 'Female', 'Female', 'Male', 'Male')\n",
            "\n",
            "Total Sales    : 480000\n",
            "Unique state   : ['Haryana', 'Himachal', 'Punjab']\n",
            "State Wise Sales : [175000, 150000, 155000]\n"
          ]
        }
      ],
      "source": [
        "name=(\"Vishal\",\"Khushi\",\"Pulkit\",\"Harsh\",\"Vibha\",\"Vanshu\",\"Kanak\",\"Muskan\",\"Arun\",\"Ashu\")\n",
        "item=(\"fridge\",\"AC\",\"LED\",\"Laptop\",\"Computer\",\"Iphone\",\"Headphone\",\"Fan\",\"Lamp\",\"Bike\")\n",
        "price=(20000,45000,50000,70000,60000,45000,50000,45000,60000,35000)\n",
        "state=(\"Haryana\",\"Himachal\",\"Punjab\",\"Haryana\",\"Himachal\",\"Punjab\",\"Haryana\",\"Himachal\",\"Punjab\",\"Haryana\")\n",
        "gender=(\"Male\",\"Female\",\"Male\",\"Male\",\"Female\",\"Female\",\"Female\",\"Female\",\"Male\",\"Male\")\n",
        "print(\"Customer Name  :\",name)\n",
        "print(\"\")\n",
        "print(\"Item           :\",item)\n",
        "print(\"\")\n",
        "print(\"Price          :\",price)\n",
        "print(\"\")\n",
        "print(\"State          :\",state)\n",
        "print(\"\")\n",
        "print(\"Gender         :\",gender)\n",
        "print(\"\")\n",
        "\n",
        "#Total Sales\n",
        "total_sales=0\n",
        "for sale in price:\n",
        "  total_sales=total_sales+sale\n",
        "print(\"Total Sales    :\",total_sales)\n",
        "\n",
        "#State Wise Sale\n",
        "unique_state=[]\n",
        "state_wise_sale=[]\n",
        "for i in state:\n",
        "  if i not in unique_state:\n",
        "    unique_state.append(i)\n",
        "    state_wise_sale.append(0)\n",
        "print(\"Unique state   :\",unique_state)\n",
        "\n",
        "for j in range(len(state)):\n",
        "  index=unique_state.index(state[j])\n",
        "  state_wise_sale[index]=state_wise_sale[index]+price[j]\n",
        "print(\"State Wise Sales :\",state_wise_sale)\n"
      ]
    },
    {
      "cell_type": "code",
      "source": [],
      "metadata": {
        "id": "Svql7MT8Gnew"
      },
      "execution_count": null,
      "outputs": []
    }
  ]
}