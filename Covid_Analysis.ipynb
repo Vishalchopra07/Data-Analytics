{
  "nbformat": 4,
  "nbformat_minor": 0,
  "metadata": {
    "colab": {
      "provenance": [],
      "authorship_tag": "ABX9TyP3zMj3G721r9nUICgFhLuZ",
      "include_colab_link": true
    },
    "kernelspec": {
      "name": "python3",
      "display_name": "Python 3"
    },
    "language_info": {
      "name": "python"
    }
  },
  "cells": [
    {
      "cell_type": "markdown",
      "metadata": {
        "id": "view-in-github",
        "colab_type": "text"
      },
      "source": [
        "<a href=\"https://colab.research.google.com/github/Vishalchopra07/Data-Analytics/blob/main/Covid_Analysis.ipynb\" target=\"_parent\"><img src=\"https://colab.research.google.com/assets/colab-badge.svg\" alt=\"Open In Colab\"/></a>"
      ]
    },
    {
      "cell_type": "code",
      "source": [
        "import matplotlib.pyplot as plt\n",
        "\n",
        "#Analysis For Covid\n",
        "states=[\"Haryana\",\"Punjab\",\"Himachal\",\"Delhi\",\"Rajasthan\",\"Uttrakhand\",\"Jammu\",\"Chandigarh\",\"Goa\",\"Maharashtra\",\"Kerala\",\"Bihar\",\"Uttar Pradesh\",\"Sikkim\",\"Nagaland\"]\n",
        "cases=[50000,60000,40000,80000,50000,30000,55000,10000,25000,80000,30000,100000,90000,45000,40000]\n",
        "vaccines=[\"covieshelid\",\"covaccine\",\"covieshelid\",\"covaccine\",\"covieshelid\",\"covaccine\",\"covieshelid\",\"covaccine\",\"covieshelid\",\"covaccine\",\"covieshelid\",\"covaccine\",\"covieshelid\",\"covaccine\",\"covieshelid\"]\n",
        "\n",
        "deaths=[10000,15000,9000,40000,25000,15000,17000,5000,12000,42000,13500,37800,7000,9850,8800]\n",
        "varients=[\"Delta\",\"Alpha\",\"Beta\",\"Delta\",\"Alpha\",\"Beta\",\"Delta\",\"Alpha\",\"Beta\",\"Delta\",\"Alpha\",\"Beta\",\"Delta\",\"Alpha\",\"Beta\"]\n",
        "print(\"States     :\",states)\n",
        "print(\"\")\n",
        "print(\"Cases      :\",cases)\n",
        "print(\"\")\n",
        "print(\"Vaccine    :\",vaccines)\n",
        "print(\"\")\n",
        "print(\"Death Rate :\",deaths)\n",
        "print(\"\")\n",
        "print(\"Varient    :\",varients)\n",
        "print(\"\")\n",
        "\n",
        "#Total cases\n",
        "total_case=0\n",
        "for case in cases:\n",
        "  total_case=total_case+case\n",
        "print(\"Total Case:\",total_case)\n",
        "print(\"\")\n",
        "\n",
        "#Total death\n",
        "total_death=0\n",
        "for death in deaths:\n",
        "  total_death=total_death+death\n",
        "print(\"Total Death: \",total_death)\n",
        "print(\"\")\n",
        "\n",
        "#Varients Wise Death\n",
        "unique_varient=[]\n",
        "varient_wise_death=[]\n",
        "for varient in varients:\n",
        "  if varient not in unique_varient:\n",
        "    unique_varient.append(varient)\n",
        "    varient_wise_death.append(0)\n",
        "print(\"Unique Varient :\",unique_varient)\n",
        "print(\"\")\n",
        "for i in range(len(varients)):\n",
        "  index=unique_varient.index(varients[i])\n",
        "  varient_wise_death[index]=varient_wise_death[index]+deaths[i]\n",
        "print(\"Varient Wise Death\",varient_wise_death)\n",
        "print(\"\")\n",
        "\n",
        "# Graph\n",
        "\n",
        "plt.bar(unique_varient,varient_wise_death)\n",
        "plt.xlabel(\"Varient\")\n",
        "plt.ylabel(\"Varient Wise Death\")\n",
        "plt.show\n",
        "print(\"\")\n",
        "\n",
        "#Vaccine Wise Case\n",
        "unique_vaccine=[]\n",
        "vaccine_wise_case=[]\n",
        "for vaccine in vaccines:\n",
        "  if vaccine not in unique_vaccine:\n",
        "    unique_vaccine.append(vaccine)\n",
        "    vaccine_wise_case.append(0)\n",
        "print(\"Unique Vaccine :\",unique_vaccine)\n",
        "print(\"\")\n",
        "for j in range (len(vaccines)):\n",
        "  index1=unique_vaccine.index(vaccines[j])\n",
        "  vaccine_wise_case[index1]=vaccine_wise_case[index1]+cases[j]\n",
        "print(\"Vaccine Wise Case :\",vaccine_wise_case)\n",
        "print(\"\")\n",
        "\n",
        "#Graph\n",
        "plt.bar(unique_vaccine,vaccine_wise_case)\n",
        "plt.xlabel(\"Vaccine\")\n",
        "plt.ylabel(\"Vaccine Wise Case\")\n",
        "plt.show\n",
        "\n"
      ],
      "metadata": {
        "colab": {
          "base_uri": "https://localhost:8080/",
          "height": 1000
        },
        "id": "b0t4DDJrjgHz",
        "outputId": "99617a8d-7c74-4789-cecc-e12025e52c55"
      },
      "execution_count": 19,
      "outputs": [
        {
          "output_type": "stream",
          "name": "stdout",
          "text": [
            "States     : ['Haryana', 'Punjab', 'Himachal', 'Delhi', 'Rajasthan', 'Uttrakhand', 'Jammu', 'Chandigarh', 'Goa', 'Maharashtra', 'Kerala', 'Bihar', 'Uttar Pradesh', 'Sikkim', 'Nagaland']\n",
            "\n",
            "Cases      : [50000, 60000, 40000, 80000, 50000, 30000, 55000, 10000, 25000, 80000, 30000, 100000, 90000, 45000, 40000]\n",
            "\n",
            "Vaccine    : ['covieshelid', 'covaccine', 'covieshelid', 'covaccine', 'covieshelid', 'covaccine', 'covieshelid', 'covaccine', 'covieshelid', 'covaccine', 'covieshelid', 'covaccine', 'covieshelid', 'covaccine', 'covieshelid']\n",
            "\n",
            "Death Rate : [10000, 15000, 9000, 40000, 25000, 15000, 17000, 5000, 12000, 42000, 13500, 37800, 7000, 9850, 8800]\n",
            "\n",
            "Varient    : ['Delta', 'Alpha', 'Beta', 'Delta', 'Alpha', 'Beta', 'Delta', 'Alpha', 'Beta', 'Delta', 'Alpha', 'Beta', 'Delta', 'Alpha', 'Beta']\n",
            "\n",
            "Total Case: 785000\n",
            "\n",
            "Total Death:  266950\n",
            "\n",
            "Unique Varient : ['Delta', 'Alpha', 'Beta']\n",
            "\n",
            "Varient Wise Death [116000, 68350, 82600]\n",
            "\n",
            "\n",
            "Unique Vaccine : ['covieshelid', 'covaccine']\n",
            "\n",
            "Vaccine Wise Case : [380000, 405000]\n",
            "\n"
          ]
        },
        {
          "output_type": "execute_result",
          "data": {
            "text/plain": [
              "<function matplotlib.pyplot.show(close=None, block=None)>"
            ],
            "text/html": [
              "<div style=\"max-width:800px; border: 1px solid var(--colab-border-color);\"><style>\n",
              "      pre.function-repr-contents {\n",
              "        overflow-x: auto;\n",
              "        padding: 8px 12px;\n",
              "        max-height: 500px;\n",
              "      }\n",
              "\n",
              "      pre.function-repr-contents.function-repr-contents-collapsed {\n",
              "        cursor: pointer;\n",
              "        max-height: 100px;\n",
              "      }\n",
              "    </style>\n",
              "    <pre style=\"white-space: initial; background:\n",
              "         var(--colab-secondary-surface-color); padding: 8px 12px;\n",
              "         border-bottom: 1px solid var(--colab-border-color);\"><b>matplotlib.pyplot.show</b><br/>def show(*args, **kwargs) -&gt; None</pre><pre class=\"function-repr-contents function-repr-contents-collapsed\" style=\"\"><a class=\"filepath\" style=\"display:none\" href=\"#\">/usr/local/lib/python3.12/dist-packages/matplotlib/pyplot.py</a>Display all open figures.\n",
              "\n",
              "Parameters\n",
              "----------\n",
              "block : bool, optional\n",
              "    Whether to wait for all figures to be closed before returning.\n",
              "\n",
              "    If `True` block and run the GUI main loop until all figure windows\n",
              "    are closed.\n",
              "\n",
              "    If `False` ensure that all figure windows are displayed and return\n",
              "    immediately.  In this case, you are responsible for ensuring\n",
              "    that the event loop is running to have responsive figures.\n",
              "\n",
              "    Defaults to True in non-interactive mode and to False in interactive\n",
              "    mode (see `.pyplot.isinteractive`).\n",
              "\n",
              "See Also\n",
              "--------\n",
              "ion : Enable interactive mode, which shows / updates the figure after\n",
              "      every plotting command, so that calling ``show()`` is not necessary.\n",
              "ioff : Disable interactive mode.\n",
              "savefig : Save the figure to an image file instead of showing it on screen.\n",
              "\n",
              "Notes\n",
              "-----\n",
              "**Saving figures to file and showing a window at the same time**\n",
              "\n",
              "If you want an image file as well as a user interface window, use\n",
              "`.pyplot.savefig` before `.pyplot.show`. At the end of (a blocking)\n",
              "``show()`` the figure is closed and thus unregistered from pyplot. Calling\n",
              "`.pyplot.savefig` afterwards would save a new and thus empty figure. This\n",
              "limitation of command order does not apply if the show is non-blocking or\n",
              "if you keep a reference to the figure and use `.Figure.savefig`.\n",
              "\n",
              "**Auto-show in jupyter notebooks**\n",
              "\n",
              "The jupyter backends (activated via ``%matplotlib inline``,\n",
              "``%matplotlib notebook``, or ``%matplotlib widget``), call ``show()`` at\n",
              "the end of every cell by default. Thus, you usually don&#x27;t have to call it\n",
              "explicitly there.</pre>\n",
              "      <script>\n",
              "      if (google.colab.kernel.accessAllowed && google.colab.files && google.colab.files.view) {\n",
              "        for (const element of document.querySelectorAll('.filepath')) {\n",
              "          element.style.display = 'block'\n",
              "          element.onclick = (event) => {\n",
              "            event.preventDefault();\n",
              "            event.stopPropagation();\n",
              "            google.colab.files.view(element.textContent, 569);\n",
              "          };\n",
              "        }\n",
              "      }\n",
              "      for (const element of document.querySelectorAll('.function-repr-contents')) {\n",
              "        element.onclick = (event) => {\n",
              "          event.preventDefault();\n",
              "          event.stopPropagation();\n",
              "          element.classList.toggle('function-repr-contents-collapsed');\n",
              "        };\n",
              "      }\n",
              "      </script>\n",
              "      </div>"
            ]
          },
          "metadata": {},
          "execution_count": 19
        },
        {
          "output_type": "display_data",
          "data": {
            "text/plain": [
              "<Figure size 640x480 with 1 Axes>"
            ],
            "image/png": "[encoded data removed]"
          },
          "metadata": {}
        }
      ]
    },
    {
      "cell_type": "code",
      "source": [],
      "metadata": {
        "id": "o-cF-dK8lI9F"
      },
      "execution_count": null,
      "outputs": []
    },
    {
      "cell_type": "code",
      "source": [],
      "metadata": {
        "id": "hvvDJ3QhlWic"
      },
      "execution_count": null,
      "outputs": []
    }
  ]
}